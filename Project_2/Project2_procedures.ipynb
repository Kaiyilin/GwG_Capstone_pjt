{
 "cells": [
  {
   "cell_type": "code",
   "execution_count": 1,
   "source": [
    "# import libraries\n",
    "import os\n",
    "import numpy as np\n",
    "import pandas as pd\n",
    "import matplotlib.pyplot as plt"
   ],
   "outputs": [],
   "metadata": {}
  },
  {
   "cell_type": "code",
   "execution_count": 2,
   "source": [
    "# First we check the structure and organisatio of each data\n",
    "data_files = [file for file in os.listdir(\"./Fitabase_Data_4.12.16-5.12.16\") if file.endswith(\".csv\")]\n",
    "data_files.sort()\n",
    "#print(data_files)\n",
    "for f in data_files: \n",
    "    df = pd.read_csv(os.path.join(\"./Fitabase_Data_4.12.16-5.12.16\",f)) \n",
    "    num_users = len(df[\"Id\"].unique())\n",
    "    print(\"*\"*60)\n",
    "    print(f\"\\n{f}\\n{df.dtypes} \\n\")\n",
    "    print(f\"\\n{f}\\n{df.head()} \\n\")\n",
    "    print(f\"The shape of the data is {df.shape}\")\n",
    "    print(f\"The nuber of users is {num_users}\")\n",
    "    print(\"*\"*60 + \"\\n\")\n",
    "\n",
    "# flush out unwanted variables\n",
    "del df, num_users"
   ],
   "outputs": [
    {
     "output_type": "stream",
     "name": "stdout",
     "text": [
      "************************************************************\n",
      "\n",
      "dailyActivity_merged.csv\n",
      "Id                            int64\n",
      "ActivityDate                 object\n",
      "TotalSteps                    int64\n",
      "TotalDistance               float64\n",
      "TrackerDistance             float64\n",
      "LoggedActivitiesDistance    float64\n",
      "VeryActiveDistance          float64\n",
      "ModeratelyActiveDistance    float64\n",
      "LightActiveDistance         float64\n",
      "SedentaryActiveDistance     float64\n",
      "VeryActiveMinutes             int64\n",
      "FairlyActiveMinutes           int64\n",
      "LightlyActiveMinutes          int64\n",
      "SedentaryMinutes              int64\n",
      "Calories                      int64\n",
      "dtype: object \n",
      "\n",
      "\n",
      "dailyActivity_merged.csv\n",
      "           Id ActivityDate  TotalSteps  TotalDistance  TrackerDistance  \\\n",
      "0  1503960366    4/12/2016       13162           8.50             8.50   \n",
      "1  1503960366    4/13/2016       10735           6.97             6.97   \n",
      "2  1503960366    4/14/2016       10460           6.74             6.74   \n",
      "3  1503960366    4/15/2016        9762           6.28             6.28   \n",
      "4  1503960366    4/16/2016       12669           8.16             8.16   \n",
      "\n",
      "   LoggedActivitiesDistance  VeryActiveDistance  ModeratelyActiveDistance  \\\n",
      "0                       0.0                1.88                      0.55   \n",
      "1                       0.0                1.57                      0.69   \n",
      "2                       0.0                2.44                      0.40   \n",
      "3                       0.0                2.14                      1.26   \n",
      "4                       0.0                2.71                      0.41   \n",
      "\n",
      "   LightActiveDistance  SedentaryActiveDistance  VeryActiveMinutes  \\\n",
      "0                 6.06                      0.0                 25   \n",
      "1                 4.71                      0.0                 21   \n",
      "2                 3.91                      0.0                 30   \n",
      "3                 2.83                      0.0                 29   \n",
      "4                 5.04                      0.0                 36   \n",
      "\n",
      "   FairlyActiveMinutes  LightlyActiveMinutes  SedentaryMinutes  Calories  \n",
      "0                   13                   328               728      1985  \n",
      "1                   19                   217               776      1797  \n",
      "2                   11                   181              1218      1776  \n",
      "3                   34                   209               726      1745  \n",
      "4                   10                   221               773      1863   \n",
      "\n",
      "The shape of the data is (940, 15)\n",
      "The nuber of users is 33\n",
      "************************************************************\n",
      "\n",
      "************************************************************\n",
      "\n",
      "dailyCalories_merged.csv\n",
      "Id              int64\n",
      "ActivityDay    object\n",
      "Calories        int64\n",
      "dtype: object \n",
      "\n",
      "\n",
      "dailyCalories_merged.csv\n",
      "           Id ActivityDay  Calories\n",
      "0  1503960366   4/12/2016      1985\n",
      "1  1503960366   4/13/2016      1797\n",
      "2  1503960366   4/14/2016      1776\n",
      "3  1503960366   4/15/2016      1745\n",
      "4  1503960366   4/16/2016      1863 \n",
      "\n",
      "The shape of the data is (940, 3)\n",
      "The nuber of users is 33\n",
      "************************************************************\n",
      "\n",
      "************************************************************\n",
      "\n",
      "dailyIntensities_merged.csv\n",
      "Id                            int64\n",
      "ActivityDay                  object\n",
      "SedentaryMinutes              int64\n",
      "LightlyActiveMinutes          int64\n",
      "FairlyActiveMinutes           int64\n",
      "VeryActiveMinutes             int64\n",
      "SedentaryActiveDistance     float64\n",
      "LightActiveDistance         float64\n",
      "ModeratelyActiveDistance    float64\n",
      "VeryActiveDistance          float64\n",
      "dtype: object \n",
      "\n",
      "\n",
      "dailyIntensities_merged.csv\n",
      "           Id ActivityDay  SedentaryMinutes  LightlyActiveMinutes  \\\n",
      "0  1503960366   4/12/2016               728                   328   \n",
      "1  1503960366   4/13/2016               776                   217   \n",
      "2  1503960366   4/14/2016              1218                   181   \n",
      "3  1503960366   4/15/2016               726                   209   \n",
      "4  1503960366   4/16/2016               773                   221   \n",
      "\n",
      "   FairlyActiveMinutes  VeryActiveMinutes  SedentaryActiveDistance  \\\n",
      "0                   13                 25                      0.0   \n",
      "1                   19                 21                      0.0   \n",
      "2                   11                 30                      0.0   \n",
      "3                   34                 29                      0.0   \n",
      "4                   10                 36                      0.0   \n",
      "\n",
      "   LightActiveDistance  ModeratelyActiveDistance  VeryActiveDistance  \n",
      "0                 6.06                      0.55                1.88  \n",
      "1                 4.71                      0.69                1.57  \n",
      "2                 3.91                      0.40                2.44  \n",
      "3                 2.83                      1.26                2.14  \n",
      "4                 5.04                      0.41                2.71   \n",
      "\n",
      "The shape of the data is (940, 10)\n",
      "The nuber of users is 33\n",
      "************************************************************\n",
      "\n",
      "************************************************************\n",
      "\n",
      "dailySteps_merged.csv\n",
      "Id              int64\n",
      "ActivityDay    object\n",
      "StepTotal       int64\n",
      "dtype: object \n",
      "\n",
      "\n",
      "dailySteps_merged.csv\n",
      "           Id ActivityDay  StepTotal\n",
      "0  1503960366   4/12/2016      13162\n",
      "1  1503960366   4/13/2016      10735\n",
      "2  1503960366   4/14/2016      10460\n",
      "3  1503960366   4/15/2016       9762\n",
      "4  1503960366   4/16/2016      12669 \n",
      "\n",
      "The shape of the data is (940, 3)\n",
      "The nuber of users is 33\n",
      "************************************************************\n",
      "\n",
      "************************************************************\n",
      "\n",
      "heartrate_seconds_merged.csv\n",
      "Id        int64\n",
      "Time     object\n",
      "Value     int64\n",
      "dtype: object \n",
      "\n",
      "\n",
      "heartrate_seconds_merged.csv\n",
      "           Id                  Time  Value\n",
      "0  2022484408  4/12/2016 7:21:00 AM     97\n",
      "1  2022484408  4/12/2016 7:21:05 AM    102\n",
      "2  2022484408  4/12/2016 7:21:10 AM    105\n",
      "3  2022484408  4/12/2016 7:21:20 AM    103\n",
      "4  2022484408  4/12/2016 7:21:25 AM    101 \n",
      "\n",
      "The shape of the data is (2483658, 3)\n",
      "The nuber of users is 14\n",
      "************************************************************\n",
      "\n",
      "************************************************************\n",
      "\n",
      "hourlyCalories_merged.csv\n",
      "Id               int64\n",
      "ActivityHour    object\n",
      "Calories         int64\n",
      "dtype: object \n",
      "\n",
      "\n",
      "hourlyCalories_merged.csv\n",
      "           Id           ActivityHour  Calories\n",
      "0  1503960366  4/12/2016 12:00:00 AM        81\n",
      "1  1503960366   4/12/2016 1:00:00 AM        61\n",
      "2  1503960366   4/12/2016 2:00:00 AM        59\n",
      "3  1503960366   4/12/2016 3:00:00 AM        47\n",
      "4  1503960366   4/12/2016 4:00:00 AM        48 \n",
      "\n",
      "The shape of the data is (22099, 3)\n",
      "The nuber of users is 33\n",
      "************************************************************\n",
      "\n",
      "************************************************************\n",
      "\n",
      "hourlyIntensities_merged.csv\n",
      "Id                    int64\n",
      "ActivityHour         object\n",
      "TotalIntensity        int64\n",
      "AverageIntensity    float64\n",
      "dtype: object \n",
      "\n",
      "\n",
      "hourlyIntensities_merged.csv\n",
      "           Id           ActivityHour  TotalIntensity  AverageIntensity\n",
      "0  1503960366  4/12/2016 12:00:00 AM              20          0.333333\n",
      "1  1503960366   4/12/2016 1:00:00 AM               8          0.133333\n",
      "2  1503960366   4/12/2016 2:00:00 AM               7          0.116667\n",
      "3  1503960366   4/12/2016 3:00:00 AM               0          0.000000\n",
      "4  1503960366   4/12/2016 4:00:00 AM               0          0.000000 \n",
      "\n",
      "The shape of the data is (22099, 4)\n",
      "The nuber of users is 33\n",
      "************************************************************\n",
      "\n",
      "************************************************************\n",
      "\n",
      "hourlySteps_merged.csv\n",
      "Id               int64\n",
      "ActivityHour    object\n",
      "StepTotal        int64\n",
      "dtype: object \n",
      "\n",
      "\n",
      "hourlySteps_merged.csv\n",
      "           Id           ActivityHour  StepTotal\n",
      "0  1503960366  4/12/2016 12:00:00 AM        373\n",
      "1  1503960366   4/12/2016 1:00:00 AM        160\n",
      "2  1503960366   4/12/2016 2:00:00 AM        151\n",
      "3  1503960366   4/12/2016 3:00:00 AM          0\n",
      "4  1503960366   4/12/2016 4:00:00 AM          0 \n",
      "\n",
      "The shape of the data is (22099, 3)\n",
      "The nuber of users is 33\n",
      "************************************************************\n",
      "\n",
      "************************************************************\n",
      "\n",
      "minuteCaloriesNarrow_merged.csv\n",
      "Id                  int64\n",
      "ActivityMinute     object\n",
      "Calories          float64\n",
      "dtype: object \n",
      "\n",
      "\n",
      "minuteCaloriesNarrow_merged.csv\n",
      "           Id         ActivityMinute  Calories\n",
      "0  1503960366  4/12/2016 12:00:00 AM    0.7865\n",
      "1  1503960366  4/12/2016 12:01:00 AM    0.7865\n",
      "2  1503960366  4/12/2016 12:02:00 AM    0.7865\n",
      "3  1503960366  4/12/2016 12:03:00 AM    0.7865\n",
      "4  1503960366  4/12/2016 12:04:00 AM    0.7865 \n",
      "\n",
      "The shape of the data is (1325580, 3)\n",
      "The nuber of users is 33\n",
      "************************************************************\n",
      "\n",
      "************************************************************\n",
      "\n",
      "minuteCaloriesWide_merged.csv\n",
      "Id                int64\n",
      "ActivityHour     object\n",
      "Calories00      float64\n",
      "Calories01      float64\n",
      "Calories02      float64\n",
      "                 ...   \n",
      "Calories55      float64\n",
      "Calories56      float64\n",
      "Calories57      float64\n",
      "Calories58      float64\n",
      "Calories59      float64\n",
      "Length: 62, dtype: object \n",
      "\n",
      "\n",
      "minuteCaloriesWide_merged.csv\n",
      "           Id           ActivityHour  Calories00  Calories01  Calories02  \\\n",
      "0  1503960366  4/13/2016 12:00:00 AM      1.8876      2.2022      0.9438   \n",
      "1  1503960366   4/13/2016 1:00:00 AM      0.7865      0.7865      0.7865   \n",
      "2  1503960366   4/13/2016 2:00:00 AM      0.7865      0.7865      0.7865   \n",
      "3  1503960366   4/13/2016 3:00:00 AM      0.7865      0.7865      0.7865   \n",
      "4  1503960366   4/13/2016 4:00:00 AM      0.7865      0.7865      0.7865   \n",
      "\n",
      "   Calories03  Calories04  Calories05  Calories06  Calories07  ...  \\\n",
      "0      0.9438      0.9438      2.0449      0.9438      2.2022  ...   \n",
      "1      0.7865      0.9438      0.9438      0.9438      0.7865  ...   \n",
      "2      0.7865      0.7865      0.7865      0.7865      0.7865  ...   \n",
      "3      0.7865      0.7865      0.7865      0.7865      0.7865  ...   \n",
      "4      0.7865      0.7865      0.7865      0.7865      0.7865  ...   \n",
      "\n",
      "   Calories50  Calories51  Calories52  Calories53  Calories54  Calories55  \\\n",
      "0      0.9438      2.0449      2.0449      0.9438      2.3595      1.8876   \n",
      "1      0.7865      0.7865      0.7865      0.7865      0.7865      0.7865   \n",
      "2      0.7865      0.7865      0.7865      0.7865      0.7865      0.7865   \n",
      "3      0.7865      0.7865      0.7865      0.7865      0.7865      0.7865   \n",
      "4      0.7865      0.7865      0.7865      0.7865      0.7865      0.7865   \n",
      "\n",
      "   Calories56  Calories57  Calories58  Calories59  \n",
      "0      0.9438      0.9438      0.9438      0.9438  \n",
      "1      0.7865      0.7865      0.7865      0.7865  \n",
      "2      0.7865      0.7865      0.7865      0.7865  \n",
      "3      0.7865      0.7865      0.7865      0.7865  \n",
      "4      0.7865      0.7865      0.7865      0.7865  \n",
      "\n",
      "[5 rows x 62 columns] \n",
      "\n",
      "The shape of the data is (21645, 62)\n",
      "The nuber of users is 33\n",
      "************************************************************\n",
      "\n",
      "************************************************************\n",
      "\n",
      "minuteIntensitiesNarrow_merged.csv\n",
      "Id                 int64\n",
      "ActivityMinute    object\n",
      "Intensity          int64\n",
      "dtype: object \n",
      "\n",
      "\n",
      "minuteIntensitiesNarrow_merged.csv\n",
      "           Id         ActivityMinute  Intensity\n",
      "0  1503960366  4/12/2016 12:00:00 AM          0\n",
      "1  1503960366  4/12/2016 12:01:00 AM          0\n",
      "2  1503960366  4/12/2016 12:02:00 AM          0\n",
      "3  1503960366  4/12/2016 12:03:00 AM          0\n",
      "4  1503960366  4/12/2016 12:04:00 AM          0 \n",
      "\n",
      "The shape of the data is (1325580, 3)\n",
      "The nuber of users is 33\n",
      "************************************************************\n",
      "\n",
      "************************************************************\n",
      "\n",
      "minuteIntensitiesWide_merged.csv\n",
      "Id               int64\n",
      "ActivityHour    object\n",
      "Intensity00      int64\n",
      "Intensity01      int64\n",
      "Intensity02      int64\n",
      "                 ...  \n",
      "Intensity55      int64\n",
      "Intensity56      int64\n",
      "Intensity57      int64\n",
      "Intensity58      int64\n",
      "Intensity59      int64\n",
      "Length: 62, dtype: object \n",
      "\n",
      "\n",
      "minuteIntensitiesWide_merged.csv\n",
      "           Id           ActivityHour  Intensity00  Intensity01  Intensity02  \\\n",
      "0  1503960366  4/13/2016 12:00:00 AM            1            1            0   \n",
      "1  1503960366   4/13/2016 1:00:00 AM            0            0            0   \n",
      "2  1503960366   4/13/2016 2:00:00 AM            0            0            0   \n",
      "3  1503960366   4/13/2016 3:00:00 AM            0            0            0   \n",
      "4  1503960366   4/13/2016 4:00:00 AM            0            0            0   \n",
      "\n",
      "   Intensity03  Intensity04  Intensity05  Intensity06  Intensity07  ...  \\\n",
      "0            0            0            1            0            1  ...   \n",
      "1            0            0            0            0            0  ...   \n",
      "2            0            0            0            0            0  ...   \n",
      "3            0            0            0            0            0  ...   \n",
      "4            0            0            0            0            0  ...   \n",
      "\n",
      "   Intensity50  Intensity51  Intensity52  Intensity53  Intensity54  \\\n",
      "0            0            1            1            0            1   \n",
      "1            0            0            0            0            0   \n",
      "2            0            0            0            0            0   \n",
      "3            0            0            0            0            0   \n",
      "4            0            0            0            0            0   \n",
      "\n",
      "   Intensity55  Intensity56  Intensity57  Intensity58  Intensity59  \n",
      "0            1            0            0            0            0  \n",
      "1            0            0            0            0            0  \n",
      "2            0            0            0            0            0  \n",
      "3            0            0            0            0            0  \n",
      "4            0            0            0            0            0  \n",
      "\n",
      "[5 rows x 62 columns] \n",
      "\n",
      "The shape of the data is (21645, 62)\n",
      "The nuber of users is 33\n",
      "************************************************************\n",
      "\n",
      "************************************************************\n",
      "\n",
      "minuteMETsNarrow_merged.csv\n",
      "Id                 int64\n",
      "ActivityMinute    object\n",
      "METs               int64\n",
      "dtype: object \n",
      "\n",
      "\n",
      "minuteMETsNarrow_merged.csv\n",
      "           Id         ActivityMinute  METs\n",
      "0  1503960366  4/12/2016 12:00:00 AM    10\n",
      "1  1503960366  4/12/2016 12:01:00 AM    10\n",
      "2  1503960366  4/12/2016 12:02:00 AM    10\n",
      "3  1503960366  4/12/2016 12:03:00 AM    10\n",
      "4  1503960366  4/12/2016 12:04:00 AM    10 \n",
      "\n",
      "The shape of the data is (1325580, 3)\n",
      "The nuber of users is 33\n",
      "************************************************************\n",
      "\n",
      "************************************************************\n",
      "\n",
      "minuteSleep_merged.csv\n",
      "Id        int64\n",
      "date     object\n",
      "value     int64\n",
      "logId     int64\n",
      "dtype: object \n",
      "\n",
      "\n",
      "minuteSleep_merged.csv\n",
      "           Id                  date  value        logId\n",
      "0  1503960366  4/12/2016 2:47:30 AM      3  11380564589\n",
      "1  1503960366  4/12/2016 2:48:30 AM      2  11380564589\n",
      "2  1503960366  4/12/2016 2:49:30 AM      1  11380564589\n",
      "3  1503960366  4/12/2016 2:50:30 AM      1  11380564589\n",
      "4  1503960366  4/12/2016 2:51:30 AM      1  11380564589 \n",
      "\n",
      "The shape of the data is (188521, 4)\n",
      "The nuber of users is 24\n",
      "************************************************************\n",
      "\n",
      "************************************************************\n",
      "\n",
      "minuteStepsNarrow_merged.csv\n",
      "Id                 int64\n",
      "ActivityMinute    object\n",
      "Steps              int64\n",
      "dtype: object \n",
      "\n",
      "\n",
      "minuteStepsNarrow_merged.csv\n",
      "           Id         ActivityMinute  Steps\n",
      "0  1503960366  4/12/2016 12:00:00 AM      0\n",
      "1  1503960366  4/12/2016 12:01:00 AM      0\n",
      "2  1503960366  4/12/2016 12:02:00 AM      0\n",
      "3  1503960366  4/12/2016 12:03:00 AM      0\n",
      "4  1503960366  4/12/2016 12:04:00 AM      0 \n",
      "\n",
      "The shape of the data is (1325580, 3)\n",
      "The nuber of users is 33\n",
      "************************************************************\n",
      "\n",
      "************************************************************\n",
      "\n",
      "minuteStepsWide_merged.csv\n",
      "Id               int64\n",
      "ActivityHour    object\n",
      "Steps00          int64\n",
      "Steps01          int64\n",
      "Steps02          int64\n",
      "                 ...  \n",
      "Steps55          int64\n",
      "Steps56          int64\n",
      "Steps57          int64\n",
      "Steps58          int64\n",
      "Steps59          int64\n",
      "Length: 62, dtype: object \n",
      "\n",
      "\n",
      "minuteStepsWide_merged.csv\n",
      "           Id           ActivityHour  Steps00  Steps01  Steps02  Steps03  \\\n",
      "0  1503960366  4/13/2016 12:00:00 AM        4       16        0        0   \n",
      "1  1503960366   4/13/2016 1:00:00 AM        0        0        0        0   \n",
      "2  1503960366   4/13/2016 2:00:00 AM        0        0        0        0   \n",
      "3  1503960366   4/13/2016 3:00:00 AM        0        0        0        0   \n",
      "4  1503960366   4/13/2016 4:00:00 AM        0        0        0        0   \n",
      "\n",
      "   Steps04  Steps05  Steps06  Steps07  ...  Steps50  Steps51  Steps52  \\\n",
      "0        0        9        0       17  ...        0        9        8   \n",
      "1        0        0        0        0  ...        0        0        0   \n",
      "2        0        0        0        0  ...        0        0        0   \n",
      "3        0        0        0        0  ...        0        0        0   \n",
      "4        0        0        0        0  ...        0        0        0   \n",
      "\n",
      "   Steps53  Steps54  Steps55  Steps56  Steps57  Steps58  Steps59  \n",
      "0        0       20        1        0        0        0        0  \n",
      "1        0        0        0        0        0        0        0  \n",
      "2        0        0        0        0        0        0        0  \n",
      "3        0        0        0        0        0        0        0  \n",
      "4        0        0        0        0        0        0        0  \n",
      "\n",
      "[5 rows x 62 columns] \n",
      "\n",
      "The shape of the data is (21645, 62)\n",
      "The nuber of users is 33\n",
      "************************************************************\n",
      "\n",
      "************************************************************\n",
      "\n",
      "sleepDay_merged.csv\n",
      "Id                     int64\n",
      "SleepDay              object\n",
      "TotalSleepRecords      int64\n",
      "TotalMinutesAsleep     int64\n",
      "TotalTimeInBed         int64\n",
      "dtype: object \n",
      "\n",
      "\n",
      "sleepDay_merged.csv\n",
      "           Id               SleepDay  TotalSleepRecords  TotalMinutesAsleep  \\\n",
      "0  1503960366  4/12/2016 12:00:00 AM                  1                 327   \n",
      "1  1503960366  4/13/2016 12:00:00 AM                  2                 384   \n",
      "2  1503960366  4/15/2016 12:00:00 AM                  1                 412   \n",
      "3  1503960366  4/16/2016 12:00:00 AM                  2                 340   \n",
      "4  1503960366  4/17/2016 12:00:00 AM                  1                 700   \n",
      "\n",
      "   TotalTimeInBed  \n",
      "0             346  \n",
      "1             407  \n",
      "2             442  \n",
      "3             367  \n",
      "4             712   \n",
      "\n",
      "The shape of the data is (413, 5)\n",
      "The nuber of users is 24\n",
      "************************************************************\n",
      "\n",
      "************************************************************\n",
      "\n",
      "weightLogInfo_merged.csv\n",
      "Id                  int64\n",
      "Date               object\n",
      "WeightKg          float64\n",
      "WeightPounds      float64\n",
      "Fat               float64\n",
      "BMI               float64\n",
      "IsManualReport       bool\n",
      "LogId               int64\n",
      "dtype: object \n",
      "\n",
      "\n",
      "weightLogInfo_merged.csv\n",
      "           Id                   Date    WeightKg  WeightPounds   Fat  \\\n",
      "0  1503960366   5/2/2016 11:59:59 PM   52.599998    115.963147  22.0   \n",
      "1  1503960366   5/3/2016 11:59:59 PM   52.599998    115.963147   NaN   \n",
      "2  1927972279   4/13/2016 1:08:52 AM  133.500000    294.317120   NaN   \n",
      "3  2873212765  4/21/2016 11:59:59 PM   56.700001    125.002104   NaN   \n",
      "4  2873212765  5/12/2016 11:59:59 PM   57.299999    126.324875   NaN   \n",
      "\n",
      "         BMI  IsManualReport          LogId  \n",
      "0  22.650000            True  1462233599000  \n",
      "1  22.650000            True  1462319999000  \n",
      "2  47.540001           False  1460509732000  \n",
      "3  21.450001            True  1461283199000  \n",
      "4  21.690001            True  1463097599000   \n",
      "\n",
      "The shape of the data is (67, 8)\n",
      "The nuber of users is 8\n",
      "************************************************************\n",
      "\n"
     ]
    }
   ],
   "metadata": {}
  },
  {
   "cell_type": "code",
   "execution_count": 3,
   "source": [
    "# We can see that the daily infomations are integrated in the file named dailyActivity_merged.csv\n",
    "# Another thing we can conclude from the the code is that not all the user used all the service\n",
    "# Based on the result we know there are \n",
    "# 33 users track their daily activity\n",
    "# 24 users track their sleep\n",
    "# 14 users track their H.R.\n",
    "# 8 users track their weights\n",
    "\n",
    "dailyActivity_merged_df = pd.read_csv(os.path.join(\"./Fitabase_Data_4.12.16-5.12.16\", \"dailyActivity_merged.csv\")) \n",
    "sleepDay_merged_df = pd.read_csv(os.path.join(\"./Fitabase_Data_4.12.16-5.12.16\", \"sleepDay_merged.csv\"))\n",
    "heartrate_seconds_merged_df = pd.read_csv(os.path.join(\"./Fitabase_Data_4.12.16-5.12.16\", \"heartrate_seconds_merged.csv\"))\n",
    "weightLogInfo_merged_df = pd.read_csv(os.path.join(\"./Fitabase_Data_4.12.16-5.12.16\", \"weightLogInfo_merged.csv\"))\n",
    "\n",
    "Activity_set = set(dailyActivity_merged_df[\"Id\"].unique())\n",
    "sleepDay_set = set(sleepDay_merged_df[\"Id\"].unique())\n",
    "heartrate_set = set(heartrate_seconds_merged_df[\"Id\"].unique())\n",
    "weight_set = set(weightLogInfo_merged_df[\"Id\"].unique())\n"
   ],
   "outputs": [],
   "metadata": {}
  },
  {
   "cell_type": "code",
   "execution_count": 4,
   "source": [
    "# To further explore we know\n",
    "\n",
    "# there are overall 33 users\n",
    "print(len(Activity_set.union(sleepDay_set, heartrate_set, weight_set)))\n",
    "\n",
    "\n",
    "# 24 (72%) users track both activity and sleep \n",
    "print(len(Activity_set.intersection(sleepDay_set)))\n",
    "\n",
    "# 14 users track both activity and H.R. \n",
    "print(len(Activity_set.intersection(heartrate_set)))\n",
    "\n",
    "# 12 users track activity, sleep and H.R. \n",
    "print(len(Activity_set.intersection(sleepDay_set,heartrate_set)))\n",
    "\n",
    "# 3 users track activity, sleep, H.R. and weight\n",
    "print(len(Activity_set.intersection(sleepDay_set,heartrate_set, weight_set)))"
   ],
   "outputs": [
    {
     "output_type": "stream",
     "name": "stdout",
     "text": [
      "33\n",
      "24\n",
      "14\n",
      "12\n",
      "3\n"
     ]
    }
   ],
   "metadata": {}
  },
  {
   "cell_type": "code",
   "execution_count": 5,
   "source": [
    "# Since there are 33 users who track daily activity \n",
    "# and 24 users track both daily activity and daily sleep \n",
    "# therefore we can merge these two data together\n",
    "# Let's convert the daily activilty and sleep data into right format and merge them together\n",
    "dailyActivity_merged_df[\"Date\"] = pd.to_datetime(dailyActivity_merged_df[\"ActivityDate\"])\n",
    "sleepDay_merged_df[\"Date\"] = pd.to_datetime(sleepDay_merged_df[\"SleepDay\"])\n",
    "daily_data = dailyActivity_merged_df.merge(right=sleepDay_merged_df, how=\"left\", left_on=[\"Id\", \"Date\"], right_on=[\"Id\", \"Date\"])\n",
    "daily_data[\"week_day\"] = daily_data[\"Date\"].dt.dayofweek\n",
    "print(daily_data.dtypes) \n",
    "print(daily_data.shape) "
   ],
   "outputs": [
    {
     "output_type": "stream",
     "name": "stdout",
     "text": [
      "Id                                   int64\n",
      "ActivityDate                        object\n",
      "TotalSteps                           int64\n",
      "TotalDistance                      float64\n",
      "TrackerDistance                    float64\n",
      "LoggedActivitiesDistance           float64\n",
      "VeryActiveDistance                 float64\n",
      "ModeratelyActiveDistance           float64\n",
      "LightActiveDistance                float64\n",
      "SedentaryActiveDistance            float64\n",
      "VeryActiveMinutes                    int64\n",
      "FairlyActiveMinutes                  int64\n",
      "LightlyActiveMinutes                 int64\n",
      "SedentaryMinutes                     int64\n",
      "Calories                             int64\n",
      "Date                        datetime64[ns]\n",
      "SleepDay                            object\n",
      "TotalSleepRecords                  float64\n",
      "TotalMinutesAsleep                 float64\n",
      "TotalTimeInBed                     float64\n",
      "week_day                             int64\n",
      "dtype: object\n",
      "(943, 21)\n"
     ]
    }
   ],
   "metadata": {}
  },
  {
   "cell_type": "code",
   "execution_count": 6,
   "source": [
    "# Clean the data, since there are no string inside we drop the N/A and the duplicates in our data \n",
    "\n",
    "daily_data = daily_data.drop([\"ActivityDate\", \"SleepDay\"], axis=1)\n",
    "daily_data = daily_data.drop_duplicates()\n",
    "print(daily_data.dtypes) \n",
    "print(daily_data.shape)\n"
   ],
   "outputs": [
    {
     "output_type": "stream",
     "name": "stdout",
     "text": [
      "Id                                   int64\n",
      "TotalSteps                           int64\n",
      "TotalDistance                      float64\n",
      "TrackerDistance                    float64\n",
      "LoggedActivitiesDistance           float64\n",
      "VeryActiveDistance                 float64\n",
      "ModeratelyActiveDistance           float64\n",
      "LightActiveDistance                float64\n",
      "SedentaryActiveDistance            float64\n",
      "VeryActiveMinutes                    int64\n",
      "FairlyActiveMinutes                  int64\n",
      "LightlyActiveMinutes                 int64\n",
      "SedentaryMinutes                     int64\n",
      "Calories                             int64\n",
      "Date                        datetime64[ns]\n",
      "TotalSleepRecords                  float64\n",
      "TotalMinutesAsleep                 float64\n",
      "TotalTimeInBed                     float64\n",
      "week_day                             int64\n",
      "dtype: object\n",
      "(940, 19)\n"
     ]
    }
   ],
   "metadata": {}
  },
  {
   "cell_type": "code",
   "execution_count": 7,
   "source": [
    "# Now we can see some basic data summary and the correlation between data\n",
    "print(\"{} \\n {}\".format(daily_data.describe(), \"-\"*60))\n",
    "\n",
    "temp_daily_data = daily_data.drop([\"Date\", \"Id\"], axis = 1)\n",
    "corr_map = temp_daily_data.corr()\n",
    "corr_labels = temp_daily_data.columns.to_list()\n",
    "#corr_labels = corr_labels.remove('Date')\n",
    "plt.imshow(corr_map, cmap = \"jet\", vmin = -1, vmax = 1)\n",
    "plt.colorbar()\n",
    "plt.xticks(ticks= range(len(corr_labels)),labels= corr_labels, rotation = 90)\n",
    "plt.yticks(ticks= range(len(corr_labels)),labels= corr_labels)\n",
    "plt.show()"
   ],
   "outputs": [
    {
     "output_type": "stream",
     "name": "stdout",
     "text": [
      "                 Id    TotalSteps  TotalDistance  TrackerDistance  \\\n",
      "count  9.400000e+02    940.000000     940.000000       940.000000   \n",
      "mean   4.855407e+09   7637.910638       5.489702         5.475351   \n",
      "std    2.424805e+09   5087.150742       3.924606         3.907276   \n",
      "min    1.503960e+09      0.000000       0.000000         0.000000   \n",
      "25%    2.320127e+09   3789.750000       2.620000         2.620000   \n",
      "50%    4.445115e+09   7405.500000       5.245000         5.245000   \n",
      "75%    6.962181e+09  10727.000000       7.712500         7.710000   \n",
      "max    8.877689e+09  36019.000000      28.030001        28.030001   \n",
      "\n",
      "       LoggedActivitiesDistance  VeryActiveDistance  ModeratelyActiveDistance  \\\n",
      "count                940.000000          940.000000                940.000000   \n",
      "mean                   0.108171            1.502681                  0.567543   \n",
      "std                    0.619897            2.658941                  0.883580   \n",
      "min                    0.000000            0.000000                  0.000000   \n",
      "25%                    0.000000            0.000000                  0.000000   \n",
      "50%                    0.000000            0.210000                  0.240000   \n",
      "75%                    0.000000            2.052500                  0.800000   \n",
      "max                    4.942142           21.920000                  6.480000   \n",
      "\n",
      "       LightActiveDistance  SedentaryActiveDistance  VeryActiveMinutes  \\\n",
      "count           940.000000               940.000000         940.000000   \n",
      "mean              3.340819                 0.001606          21.164894   \n",
      "std               2.040655                 0.007346          32.844803   \n",
      "min               0.000000                 0.000000           0.000000   \n",
      "25%               1.945000                 0.000000           0.000000   \n",
      "50%               3.365000                 0.000000           4.000000   \n",
      "75%               4.782500                 0.000000          32.000000   \n",
      "max              10.710000                 0.110000         210.000000   \n",
      "\n",
      "       FairlyActiveMinutes  LightlyActiveMinutes  SedentaryMinutes  \\\n",
      "count           940.000000            940.000000        940.000000   \n",
      "mean             13.564894            192.812766        991.210638   \n",
      "std              19.987404            109.174700        301.267437   \n",
      "min               0.000000              0.000000          0.000000   \n",
      "25%               0.000000            127.000000        729.750000   \n",
      "50%               6.000000            199.000000       1057.500000   \n",
      "75%              19.000000            264.000000       1229.500000   \n",
      "max             143.000000            518.000000       1440.000000   \n",
      "\n",
      "          Calories  TotalSleepRecords  TotalMinutesAsleep  TotalTimeInBed  \\\n",
      "count   940.000000         410.000000          410.000000      410.000000   \n",
      "mean   2303.609574           1.119512          419.173171      458.482927   \n",
      "std     718.166862           0.346636          118.635918      127.455140   \n",
      "min       0.000000           1.000000           58.000000       61.000000   \n",
      "25%    1828.500000           1.000000          361.000000      403.750000   \n",
      "50%    2134.000000           1.000000          432.500000      463.000000   \n",
      "75%    2793.250000           1.000000          490.000000      526.000000   \n",
      "max    4900.000000           3.000000          796.000000      961.000000   \n",
      "\n",
      "         week_day  \n",
      "count  940.000000  \n",
      "mean     2.918085  \n",
      "std      1.942379  \n",
      "min      0.000000  \n",
      "25%      1.000000  \n",
      "50%      3.000000  \n",
      "75%      5.000000  \n",
      "max      6.000000   \n",
      " ------------------------------------------------------------\n"
     ]
    },
    {
     "output_type": "display_data",
     "data": {
      "text/plain": [
       "<Figure size 432x288 with 2 Axes>"
      ],
      "image/png": "[encoded data removed]"
     },
     "metadata": {
      "needs_background": "light"
     }
    }
   ],
   "metadata": {}
  },
  {
   "cell_type": "code",
   "execution_count": 8,
   "source": [
    "# It seems that there's a high positive correlation between TotalSteps, Calories\n",
    "plt.subplot(1,3,1)\n",
    "plt.scatter(x = daily_data[\"TotalDistance\"], y = daily_data[\"Calories\"])\n",
    "plt.title(\"TotalDistance vs Daily calories burned\")\n",
    "plt.xlabel(\"TotalDistance\")\n",
    "plt.ylabel(\"Calories consumed\")\n",
    "\n",
    "plt.subplot(1,3,3)\n",
    "plt.scatter(x = daily_data[\"TotalSteps\"], y = daily_data[\"Calories\"])\n",
    "plt.title(\"TotalSteps vs Daily calories burned\")\n",
    "plt.xlabel(\"TotalSteps\")\n",
    "plt.ylabel(\"Calories consumed\")\n"
   ],
   "outputs": [
    {
     "output_type": "execute_result",
     "data": {
      "text/plain": [
       "Text(0, 0.5, 'Calories consumed')"
      ]
     },
     "metadata": {},
     "execution_count": 8
    },
    {
     "output_type": "display_data",
     "data": {
      "text/plain": [
       "<Figure size 432x288 with 2 Axes>"
      ],
      "image/png": "[encoded data removed]"
     },
     "metadata": {
      "needs_background": "light"
     }
    }
   ],
   "metadata": {}
  },
  {
   "cell_type": "code",
   "execution_count": 9,
   "source": [
    "# Based on the data we know some of the users are not very active, so does the calories consumed different across the activity?"
   ],
   "outputs": [],
   "metadata": {}
  },
  {
   "cell_type": "code",
   "execution_count": 10,
   "source": [
    "# But does this impact their sleep patterns?\n",
    "plt.scatter(x = daily_data[\"TotalSteps\"], y = daily_data[\"TotalMinutesAsleep\"])\n",
    "plt.title(\"TotalSteps vs Daily sleep time burned\")\n",
    "\n"
   ],
   "outputs": [
    {
     "output_type": "execute_result",
     "data": {
      "text/plain": [
       "Text(0.5, 1.0, 'TotalSteps vs Daily sleep time burned')"
      ]
     },
     "metadata": {},
     "execution_count": 10
    },
    {
     "output_type": "display_data",
     "data": {
      "text/plain": [
       "<Figure size 432x288 with 1 Axes>"
      ],
      "image/png": "[encoded data removed]"
     },
     "metadata": {
      "needs_background": "light"
     }
    }
   ],
   "metadata": {}
  },
  {
   "cell_type": "code",
   "execution_count": 11,
   "source": [
    "# The sleep patterns seems not affect by the steps our users took\n",
    "# So that's see how the week day users' sleep cycle and activity\n",
    "# The week day starts on Monday, which is denoted by 0 and ends on Sunday which is denoted by 6\n",
    "# The sleep patterns across the week day are not that different\n",
    "daily_data.boxplot(column=['TotalMinutesAsleep'], by=['week_day'])\n",
    "\n",
    "\n"
   ],
   "outputs": [
    {
     "output_type": "execute_result",
     "data": {
      "text/plain": [
       "<AxesSubplot:title={'center':'TotalMinutesAsleep'}, xlabel='[week_day]'>"
      ]
     },
     "metadata": {},
     "execution_count": 11
    },
    {
     "output_type": "display_data",
     "data": {
      "text/plain": [
       "<Figure size 432x288 with 1 Axes>"
      ],
      "image/png": "[encoded data removed]"
     },
     "metadata": {
      "needs_background": "light"
     }
    }
   ],
   "metadata": {}
  },
  {
   "cell_type": "code",
   "execution_count": 12,
   "source": [
    "# and the activity also showed slightly difference in different week days \n",
    "daily_data.boxplot(column=['TotalSteps'], by=['week_day'])\n"
   ],
   "outputs": [
    {
     "output_type": "execute_result",
     "data": {
      "text/plain": [
       "<AxesSubplot:title={'center':'TotalSteps'}, xlabel='[week_day]'>"
      ]
     },
     "metadata": {},
     "execution_count": 12
    },
    {
     "output_type": "display_data",
     "data": {
      "text/plain": [
       "<Figure size 432x288 with 1 Axes>"
      ],
      "image/png": "[encoded data removed]"
     },
     "metadata": {
      "needs_background": "light"
     }
    }
   ],
   "metadata": {}
  },
  {
   "cell_type": "code",
   "execution_count": 15,
   "source": [
    "plt.scatter(x = daily_data[\"VeryActiveMinutes\"], y = daily_data[\"TotalMinutesAsleep\"]/60)\n",
    "plt.title(\"VeryActiveMinutes vs Total sleep hours\")"
   ],
   "outputs": [
    {
     "output_type": "execute_result",
     "data": {
      "text/plain": [
       "Text(0.5, 1.0, 'VeryActiveMinutes vs Total sleep hours')"
      ]
     },
     "metadata": {},
     "execution_count": 15
    },
    {
     "output_type": "display_data",
     "data": {
      "text/plain": [
       "<Figure size 432x288 with 1 Axes>"
      ],
      "image/png": "[encoded data removed]"
     },
     "metadata": {
      "needs_background": "light"
     }
    }
   ],
   "metadata": {}
  },
  {
   "cell_type": "code",
   "execution_count": 31,
   "source": [
    "# But does this impact their sleep patterns?\n",
    "daily_data.loc[pd.isna(daily_data[\"TotalMinutesAsleep\"]/60) == True , \"sleepPatterns\"] = \"No Records\"\n",
    "daily_data.loc[daily_data[\"TotalMinutesAsleep\"]/60 < 6, \"sleepPatterns\"] = \"< 6 hours\"\n",
    "daily_data.loc[(daily_data[\"TotalMinutesAsleep\"]/60 >= 6) & (daily_data[\"TotalMinutesAsleep\"]/60 <=9), \"sleepPatterns\"] = \"6-9 hours\"\n",
    "daily_data.loc[daily_data[\"TotalMinutesAsleep\"]/60 >9 , \"sleepPatterns\"] = \"> 9 hours\"\n",
    "\n"
   ],
   "outputs": [],
   "metadata": {}
  },
  {
   "cell_type": "code",
   "execution_count": 27,
   "source": [
    "daily_data.groupby(\"sleepPatterns\").mean()[\"TotalSteps\"].plot.bar(rot = 45)"
   ],
   "outputs": [
    {
     "output_type": "execute_result",
     "data": {
      "text/plain": [
       "<AxesSubplot:xlabel='sleepPatterns'>"
      ]
     },
     "metadata": {},
     "execution_count": 27
    },
    {
     "output_type": "display_data",
     "data": {
      "text/plain": [
       "<Figure size 432x288 with 1 Axes>"
      ],
      "image/png": "[encoded data removed]"
     },
     "metadata": {
      "needs_background": "light"
     }
    }
   ],
   "metadata": {}
  },
  {
   "cell_type": "code",
   "execution_count": 29,
   "source": [
    "daily_data.groupby(\"sleepPatterns\").mean()[\"Calories\"].plot.bar(rot = 45)"
   ],
   "outputs": [
    {
     "output_type": "execute_result",
     "data": {
      "text/plain": [
       "<AxesSubplot:xlabel='sleepPatterns'>"
      ]
     },
     "metadata": {},
     "execution_count": 29
    },
    {
     "output_type": "display_data",
     "data": {
      "text/plain": [
       "<Figure size 432x288 with 1 Axes>"
      ],
      "image/png": "[encoded data removed]"
     },
     "metadata": {
      "needs_background": "light"
     }
    }
   ],
   "metadata": {}
  },
  {
   "cell_type": "code",
   "execution_count": 30,
   "source": [
    "plt.scatter(x = daily_data[\"VeryActiveMinutes\"], y = daily_data[\"Calories\"])\n",
    "plt.title(\"VeryActiveMinutes vs Calories\")"
   ],
   "outputs": [
    {
     "output_type": "execute_result",
     "data": {
      "text/plain": [
       "Text(0.5, 1.0, 'VeryActiveMinutes vs Calories')"
      ]
     },
     "metadata": {},
     "execution_count": 30
    },
    {
     "output_type": "display_data",
     "data": {
      "text/plain": [
       "<Figure size 432x288 with 1 Axes>"
      ],
      "image/png": "[encoded data removed]"
     },
     "metadata": {
      "needs_background": "light"
     }
    }
   ],
   "metadata": {}
  }
 ],
 "metadata": {
  "orig_nbformat": 4,
  "language_info": {
   "name": "python",
   "version": "3.7.7",
   "mimetype": "text/x-python",
   "codemirror_mode": {
    "name": "ipython",
    "version": 3
   },
   "pygments_lexer": "ipython3",
   "nbconvert_exporter": "python",
   "file_extension": ".py"
  },
  "kernelspec": {
   "name": "python3",
   "display_name": "Python 3.7.7 64-bit"
  },
  "interpreter": {
   "hash": "aee8b7b246df8f9039afb4144a1f6fd8d2ca17a180786b69acc140d282b71a49"
  }
 },
 "nbformat": 4,
 "nbformat_minor": 2
}